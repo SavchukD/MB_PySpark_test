{
 "cells": [
  {
   "cell_type": "markdown",
   "metadata": {},
   "source": [
    "Создание, заполнение и джойн 2 датафреймов. Одному продукту может соответствовать много категорий, в одной категории может быть много продуктов.\n",
    "В результирующем датафрейме выводятся продукты, у которых нет категорий."
   ]
  },
  {
   "cell_type": "code",
   "execution_count": null,
   "metadata": {},
   "outputs": [],
   "source": [
    "from pyspark.sql import *\n",
    "sc = SparkContext.getOrCreate()\n",
    "spark = SparkSession(sc)\n",
    "\n",
    "category1 = Row(id=1, name = 'Smartphone', products_ids = [1,2])\n",
    "category2 = Row(id=2, name = 'Fruit', products_ids = [1,3])\n",
    "category3 = Row(id=3, name = 'Edible', products_ids = [1,3,4])\n",
    "category4 = Row(id=4, name = 'Venicle', products_ids = [])\n",
    "\n",
    "product1 = Row(id=1, name = 'Apple', categories_ids = [1,2])\n",
    "product2 = Row(id=2, name = 'Samsung', categories_ids = [1])\n",
    "product3 = Row(id=3, name = 'Tomato', categories_ids = [2])\n",
    "product4 = Row(id=4, name = 'Aspirin', categories_ids = [3])\n",
    "product5 = Row(id=5, name = 'Money', categories_ids = [])\n",
    "\n",
    "Categories = (category1,category2,category3,category4)\n",
    "Products = (product1,product2,product3,product4,product5)\n",
    "\n",
    "product = spark.createDataFrame(Products)\n",
    "categories = spark.createDataFrame(Categories)\n",
    "\n",
    "res = product.join(categories,(array_contains(product.categories_ids,categories.id) | array_contains(categories.products_ids,product.id)),\"left\").select(product.name.alias(\"Продукт\"),categories.name.alias(\"Категория\"))\n",
    "res.show()"
   ]
  }
 ],
 "metadata": {
  "language_info": {
   "name": "python"
  },
  "orig_nbformat": 4
 },
 "nbformat": 4,
 "nbformat_minor": 2
}
